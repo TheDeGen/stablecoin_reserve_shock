{
 "cells": [
  {
   "cell_type": "markdown",
   "metadata": {},
   "source": [
    "# Exploratory Data Analysis\n",
    "\n",
    "This notebook performs initial exploratory data analysis on:\n",
    "1. Stablecoin market caps from DefiLlama\n",
    "2. Treasury yields from FRED\n",
    "\n",
    "We'll analyze the relationship between stablecoin market cap changes and the 3-month vs 1-year Treasury bill spread."
   ]
  }
 ],
 "metadata": {
  "language_info": {
   "name": "python"
  }
 },
 "nbformat": 4,
 "nbformat_minor": 2
}
